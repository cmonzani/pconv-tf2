{
 "cells": [
  {
   "cell_type": "code",
   "execution_count": 1,
   "metadata": {},
   "outputs": [],
   "source": [
    "import tensorflow as tf\n",
    "import datetime as dt\n",
    "time_format = '%Y-%m-%dT%H:%M:%S.%fZ'"
   ]
  },
  {
   "cell_type": "code",
   "execution_count": 4,
   "metadata": {},
   "outputs": [],
   "source": [
    "pixels_list=[\n",
    "    \n",
    "    1161116,\n",
    "    1161118,\n",
    "    1161119,\n",
    "    1161124,\n",
    "    531883,\n",
    "    557074,\n",
    "    796366,\n",
    "    796367,\n",
    "    796368,\n",
    "    796504,\n",
    "    796506,\n",
    "    796507,\n",
    "    796508,\n",
    "    796510,\n",
    "    796515,\n",
    "    796521,\n",
    "    799287,\n",
    "    799293,\n",
    "    838757,\n",
    "    838776,\n",
    "    975390,\n",
    "    975391\n",
    "\n",
    "    ]"
   ]
  },
  {
   "cell_type": "code",
   "execution_count": 6,
   "metadata": {},
   "outputs": [],
   "source": [
    "pixels_list.sort()"
   ]
  },
  {
   "cell_type": "code",
   "execution_count": 7,
   "metadata": {},
   "outputs": [],
   "source": [
    "import pprint"
   ]
  },
  {
   "cell_type": "code",
   "execution_count": 8,
   "metadata": {},
   "outputs": [
    {
     "name": "stdout",
     "output_type": "stream",
     "text": [
      "[531883,\n",
      " 557074,\n",
      " 796366,\n",
      " 796367,\n",
      " 796368,\n",
      " 796504,\n",
      " 796506,\n",
      " 796507,\n",
      " 796508,\n",
      " 796510,\n",
      " 796515,\n",
      " 796521,\n",
      " 799287,\n",
      " 799293,\n",
      " 838757,\n",
      " 838776,\n",
      " 975390,\n",
      " 975391,\n",
      " 1161116,\n",
      " 1161118,\n",
      " 1161119,\n",
      " 1161124]\n"
     ]
    }
   ],
   "source": [
    "pprint.pprint(pixels_list)"
   ]
  },
  {
   "cell_type": "code",
   "execution_count": 9,
   "metadata": {},
   "outputs": [],
   "source": [
    "pixels_dict={\n",
    "    \n",
    " 531883: 'visit' ,\n",
    " 557074: 'visit',\n",
    " 796366: 'visit',\n",
    " 796367: 'visit',\n",
    " 796368: 'visit',\n",
    " 796504: 'prodbrows',\n",
    " 796506: 'prodbrows',\n",
    " 796507: 'prodviews',\n",
    " 796508: 'prodviews',\n",
    " 796510: 'prodviews',\n",
    " 796515: 'prodbrows',\n",
    " 796518: 'prodbrows',\n",
    " 796521: 'prodbrows',\n",
    " 796522: 'prodviews',\n",
    " 799287: 'conversion',\n",
    " 799293: 'conversion',\n",
    " 838757: 'prodviews',\n",
    " 838776: 'prodviews',\n",
    " 975390: 'conversion',\n",
    " 975391: 'conversion',\n",
    " 1161116: 'visite',\n",
    " 1161118: 'visite',\n",
    " 1161119: 'visite',\n",
    " 1161124: 'visite'\n",
    "}"
   ]
  },
  {
   "cell_type": "code",
   "execution_count": null,
   "metadata": {},
   "outputs": [],
   "source": [
    "pixels_dict = {\n",
    " 66484: 'conversion',\n",
    " 285724: 'visite',\n",
    " 501995: 'conversion',\n",
    " 501996: 'conversion',\n",
    " 507587: 'conversion',\n",
    " 549435: 'conversion', \n",
    " 718525: 'prodbrows',\n",
    " 760016: 'addtocart',\n",
    " 760041: 'visite',\n",
    " 868710: 'prodbrows', \n",
    " 868711: 'prodbrows', \n",
    " 868712: 'prodbrows',\n",
    " 868713: 'prodbrows',\n",
    " 1055171: 'prodbrows'\n",
    "    \n",
    "}"
   ]
  },
  {
   "cell_type": "code",
   "execution_count": 161,
   "metadata": {},
   "outputs": [],
   "source": [
    "data_path = '/home/charles/pconv/data/datasets'\n",
    "dataset_name = '2019/10/01/yves-rocher/3m-seq-1m-lab-only-px'"
   ]
  },
  {
   "cell_type": "code",
   "execution_count": 162,
   "metadata": {},
   "outputs": [],
   "source": [
    "users_file = f'{data_path}/{dataset_name}/users.txt.gz'\n",
    "timestamps_file = f'{data_path}/{dataset_name}/timestamps.txt.gz'\n",
    "labels_file = f'{data_path}/{dataset_name}/labels.txt.gz'\n",
    "decoder_file = f'{data_path}/{dataset_name}/events-decoder.json'"
   ]
  },
  {
   "cell_type": "code",
   "execution_count": 163,
   "metadata": {},
   "outputs": [
    {
     "name": "stdout",
     "output_type": "stream",
     "text": [
      "/home/charles/pconv/data/datasets/2019/10/01/yves-rocher/3m-seq-1m-lab-only-px/users.txt.gz\n"
     ]
    }
   ],
   "source": [
    "print(users_file)"
   ]
  },
  {
   "cell_type": "code",
   "execution_count": 164,
   "metadata": {},
   "outputs": [
    {
     "name": "stdout",
     "output_type": "stream",
     "text": [
      "ok\n"
     ]
    }
   ],
   "source": [
    "import os\n",
    "if os.path.exists(users_file):\n",
    "    print('ok')"
   ]
  },
  {
   "cell_type": "code",
   "execution_count": 165,
   "metadata": {},
   "outputs": [
    {
     "name": "stdout",
     "output_type": "stream",
     "text": [
      "/home/charles/pconv-tf2\n"
     ]
    }
   ],
   "source": [
    "print(os.getcwd())"
   ]
  },
  {
   "cell_type": "code",
   "execution_count": 166,
   "metadata": {},
   "outputs": [],
   "source": [
    "import gzip\n",
    "import json"
   ]
  },
  {
   "cell_type": "code",
   "execution_count": 167,
   "metadata": {},
   "outputs": [],
   "source": [
    "with open(decoder_file) as f:\n",
    "    events_mapping_dict = json.loads(f.read())\n",
    "events_mapping = {int(k): v for k,v in events_mapping_dict.items()}"
   ]
  },
  {
   "cell_type": "code",
   "execution_count": 168,
   "metadata": {},
   "outputs": [],
   "source": [
    "users = {}\n",
    "count_ = 1\n",
    "with gzip.open(users_file, mode='rb') as f:\n",
    "    for line in f:\n",
    "        d = json.loads(line)\n",
    "        uid = d[\"uid\"]\n",
    "        events_list = [events_mapping[event] for event in d['events']]\n",
    "        users[uid] = events_list"
   ]
  },
  {
   "cell_type": "code",
   "execution_count": 169,
   "metadata": {},
   "outputs": [],
   "source": [
    "timestamps = {}\n",
    "\n",
    "with gzip.open(timestamps_file, mode='rb') as f:\n",
    "    for line in f:\n",
    "        d = json.loads(line)\n",
    "        uid = d[\"uid\"]\n",
    "        ts_list = [ts for ts in d['tm_lists']]\n",
    "        timestamps[uid] = ts_list"
   ]
  },
  {
   "cell_type": "code",
   "execution_count": 184,
   "metadata": {},
   "outputs": [],
   "source": [
    "labels = {}\n",
    "with gzip.open(labels_file, mode='rb') as f:\n",
    "    for line in f:\n",
    "        d = json.loads(line)\n",
    "        uid = d[\"uid\"]\n",
    "        ts_list = [ts for ts in d['events']]\n",
    "        labels[uid] = ts_list"
   ]
  },
  {
   "cell_type": "code",
   "execution_count": 170,
   "metadata": {},
   "outputs": [],
   "source": [
    "min_len = 5\n",
    "users_list = list(users.keys())\n",
    "for uid in users_list:\n",
    "    if len(users[uid]) < min_len:\n",
    "        del(users[uid])\n",
    "        del(timestamps[uid])"
   ]
  },
  {
   "cell_type": "code",
   "execution_count": 211,
   "metadata": {},
   "outputs": [],
   "source": [
    "full_input = {}\n",
    "for uid in users.keys():\n",
    "    \n",
    "    seq_of_px = users[uid]\n",
    "    seq_of_ts = list(map(lambda x: dt.datetime.strptime(x, time_format),timestamps[uid]))\n",
    "    seq_of_ts.sort()\n",
    "    \n",
    "    seq = [pixels_dict[ev[1]] for ev in seq_of_px]\n",
    "    full_input[uid] = {}\n",
    "    full_input[uid]['events'] = seq\n",
    "    full_input[uid]['ts'] = seq_of_ts"
   ]
  },
  {
   "cell_type": "code",
   "execution_count": 173,
   "metadata": {},
   "outputs": [
    {
     "name": "stdout",
     "output_type": "stream",
     "text": [
      "{'events': ['visite', 'visite', 'visite', 'visite', 'visite', 'visite', 'visite', 'visite', 'visite', 'visite', 'visite', 'visite', 'addtocart', 'visite', 'visite', 'visite', 'conversion', 'conversion', 'conversion', 'addtocart', 'visite', 'visite', 'visite', 'visite', 'visite', 'visite', 'visite', 'visite', 'visite', 'visite', 'visite', 'visite', 'visite', 'visite', 'visite', 'conversion', 'conversion', 'conversion', 'conversion', 'visite', 'visite', 'visite', 'visite', 'conversion', 'addtocart', 'conversion', 'conversion', 'visite', 'visite', 'visite', 'visite', 'visite', 'visite', 'visite', 'visite'], 'ts': [datetime.datetime(2019, 10, 18, 9, 39, 55, 245000), datetime.datetime(2019, 10, 18, 9, 40, 28, 131000), datetime.datetime(2019, 10, 19, 5, 24, 14, 98000), datetime.datetime(2019, 10, 20, 20, 20, 16, 934000), datetime.datetime(2019, 10, 22, 14, 58, 30, 945000), datetime.datetime(2019, 10, 22, 15, 0, 9, 105000), datetime.datetime(2019, 10, 30, 7, 2, 52, 535000), datetime.datetime(2019, 10, 31, 1, 0, 16, 955000), datetime.datetime(2019, 11, 3, 8, 15, 43, 315000), datetime.datetime(2019, 11, 3, 8, 17, 23, 51000), datetime.datetime(2019, 11, 9, 6, 29, 20, 39000), datetime.datetime(2019, 11, 9, 6, 32, 0, 167000), datetime.datetime(2019, 11, 9, 6, 48, 30, 455000), datetime.datetime(2019, 11, 9, 17, 34, 10, 853000), datetime.datetime(2019, 11, 12, 13, 3, 51, 37000), datetime.datetime(2019, 11, 12, 13, 4, 43, 386000), datetime.datetime(2019, 11, 12, 13, 27, 23, 234000), datetime.datetime(2019, 11, 12, 13, 27, 46, 255000), datetime.datetime(2019, 11, 12, 13, 30, 43, 170000), datetime.datetime(2019, 11, 12, 13, 36, 17, 177000), datetime.datetime(2019, 11, 13, 5, 50, 19, 91000), datetime.datetime(2019, 11, 13, 18, 6, 23, 932000), datetime.datetime(2019, 11, 14, 5, 47, 16, 481000), datetime.datetime(2019, 11, 19, 9, 40, 47, 925000), datetime.datetime(2019, 11, 19, 9, 42, 22, 823000), datetime.datetime(2019, 11, 25, 10, 22, 56, 247000), datetime.datetime(2019, 11, 25, 10, 24, 1, 468000), datetime.datetime(2019, 11, 28, 5, 34, 5, 759000), datetime.datetime(2019, 11, 28, 5, 35, 5, 319000), datetime.datetime(2019, 11, 30, 6, 22, 44, 743000), datetime.datetime(2019, 11, 30, 6, 23, 23, 579000), datetime.datetime(2019, 12, 4, 17, 8, 9, 849000), datetime.datetime(2019, 12, 4, 17, 8, 46, 753000), datetime.datetime(2019, 12, 6, 6, 37, 41, 332000), datetime.datetime(2019, 12, 6, 6, 41, 19, 577000), datetime.datetime(2019, 12, 6, 7, 3, 42, 743000), datetime.datetime(2019, 12, 6, 7, 4, 24, 264000), datetime.datetime(2019, 12, 6, 7, 25, 34, 107000), datetime.datetime(2019, 12, 6, 7, 25, 35, 159000), datetime.datetime(2019, 12, 8, 8, 42, 44, 998000), datetime.datetime(2019, 12, 16, 15, 27, 17, 602000), datetime.datetime(2019, 12, 21, 6, 22, 32, 889000), datetime.datetime(2019, 12, 21, 6, 28, 48, 734000), datetime.datetime(2019, 12, 21, 6, 30, 25, 971000), datetime.datetime(2019, 12, 21, 6, 38, 9, 347000), datetime.datetime(2019, 12, 21, 6, 40, 18, 471000), datetime.datetime(2019, 12, 21, 6, 41, 11, 698000), datetime.datetime(2019, 12, 27, 15, 42, 35, 625000), datetime.datetime(2019, 10, 4, 5, 41, 2, 342000), datetime.datetime(2019, 10, 4, 5, 44, 15, 546000), datetime.datetime(2019, 10, 11, 9, 17, 29, 406000), datetime.datetime(2019, 10, 11, 9, 18, 0, 597000), datetime.datetime(2019, 10, 12, 9, 25, 18, 945000), datetime.datetime(2019, 10, 12, 9, 26, 48, 125000), datetime.datetime(2019, 10, 13, 5, 46, 22, 559000)]}\n"
     ]
    }
   ],
   "source": [
    "for uid in full_input.keys():\n",
    "    print(full_input[uid])\n",
    "    break"
   ]
  },
  {
   "cell_type": "code",
   "execution_count": 104,
   "metadata": {},
   "outputs": [
    {
     "name": "stdout",
     "output_type": "stream",
     "text": [
      "[datetime.datetime(2019, 11, 14, 10, 1, 30, 531000), datetime.datetime(2019, 11, 14, 10, 2, 54, 8000), datetime.datetime(2019, 11, 20, 19, 56, 23, 469000), datetime.datetime(2019, 11, 20, 20, 3, 15, 448000), datetime.datetime(2019, 11, 20, 21, 5, 0, 393000), datetime.datetime(2019, 11, 20, 21, 21, 11, 247000), datetime.datetime(2019, 11, 20, 21, 23, 51, 663000), datetime.datetime(2019, 11, 21, 16, 25, 8, 978000), datetime.datetime(2019, 11, 21, 17, 29, 13, 96000), datetime.datetime(2019, 11, 21, 19, 27, 30, 623000), datetime.datetime(2019, 11, 26, 22, 35, 42, 776000), datetime.datetime(2019, 11, 26, 22, 36, 35, 975000), datetime.datetime(2019, 11, 27, 14, 59, 45, 428000), datetime.datetime(2019, 11, 27, 17, 30, 47, 940000), datetime.datetime(2019, 12, 17, 16, 0, 6, 290000), datetime.datetime(2019, 12, 17, 16, 1, 4, 854000), datetime.datetime(2019, 12, 17, 16, 1, 5, 237000), datetime.datetime(2019, 12, 20, 23, 18, 3, 530000), datetime.datetime(2019, 12, 20, 23, 22, 28, 498000)]\n"
     ]
    }
   ],
   "source": []
  },
  {
   "cell_type": "code",
   "execution_count": 239,
   "metadata": {},
   "outputs": [],
   "source": [
    "SESSION_LENGTH = 20 * 60\n",
    "ev_mapping = {\n",
    "    'visite': [1., 0., 0., 0., 0., 0],\n",
    "    'prodviews': [0., 1., 0., 0., 0., 0],\n",
    "    'prodbrows': [0., 0., 1., 0., 0., 0],\n",
    "    'addtocart': [0., 0., 0., 1., 0., 0],\n",
    "    'conversion': [0., 0., 0., 0., 1., 0]\n",
    "}\n",
    "def get_sessions_list(seq_of_ts):\n",
    "    sessions_list = []\n",
    "    current_beginning = seq_of_ts[0]\n",
    "    end_so_far = seq_of_ts[0]\n",
    "    i = 1\n",
    "    while i < len(seq_of_ts) :\n",
    "        if (seq_of_ts[i] - end_so_far).total_seconds() > SESSION_LENGTH:\n",
    "            sessions_list.append([current_beginning, end_so_far])\n",
    "            current_beginning = seq_of_ts[i]\n",
    "            end_so_far = seq_of_ts[i]\n",
    "        else:\n",
    "            end_so_far = seq_of_ts[i]\n",
    "        i += 1\n",
    "    sessions_list.append([current_beginning, end_so_far])\n",
    "    return sessions_list\n",
    "\n",
    "DELAY_FOR_QUESTION_A = 30 * 24 * 60 * 60\n",
    "def question_a(dt_, uid, sessions_dict):\n",
    "    sessions = sessions_dict[uid]\n",
    "    if dt_ >= sessions[-1][0]:\n",
    "        return False\n",
    "    next_session_start_dt = min([sess[0] for sess in sessions if sess[0] > dt_])\n",
    "    current_session_end_dt = max([sess[1] for sess in sessions if sess[0] <= dt_])\n",
    "    \n",
    "    return (next_session_start_dt - current_session_end_dt).total_seconds() < DELAY_FOR_QUESTION_A\n",
    "\n",
    "def question_b(ev_id, uid, evs_list):\n",
    "    if ev_id < len(evs_list) - 1:\n",
    "        return ev_mapping[evs_list[ev_id + 1]]\n",
    "    else:\n",
    "        return [0., 0., 0., 0., 0., 1.]\n",
    "    \n",
    "INTERVALS_FOR_QUESTION_C = [20, 2 * 60, 20 * 60]\n",
    "def question_c(dt_, uid, sessions_dict):\n",
    "    sessions = sessions_dict[uid]\n",
    "    current_session_end_dt = max([sess[1] for sess in sessions if sess[0] <= dt_])\n",
    "    delay_before_end_of_sess = (current_session_end_dt - dt_).total_seconds()\n",
    "    i = 0\n",
    "    while i <3:\n",
    "        if delay_before_end_of_sess < INTERVALS_FOR_QUESTION_C[i]:\n",
    "            break\n",
    "        else: i += 1\n",
    "    aux_ = [0., 0., 0., 0.]\n",
    "    aux_[i] = 1\n",
    "    return aux_\n",
    "\n",
    "DELAY_FOR_QUESTION_D = 16 * 60 * 60\n",
    "def question_d(dt_, uid, sessions_dict):\n",
    "    sessions = sessions_dict[uid]\n",
    "    if dt_ >= sessions[-1][0]:\n",
    "        return [0., 0., 1.]\n",
    "    next_session_start_dt = min([sess[0] for sess in sessions if sess[0] > dt_])\n",
    "    if (next_session_start_dt - dt_).total_seconds() < DELAY_FOR_QUESTION_D:\n",
    "        return [1., 0., 0.]\n",
    "    else:\n",
    "        return [0., 1., 0.]\n",
    "    \n",
    "def question_e(dt_, uid, sessions_dict, conversions_ts_dict):\n",
    "    conv_ts_list = conversions_ts_dict[uid]\n",
    "    if len(conv_ts_list) == 0 or dt_ >= conv_ts_list[-1]:\n",
    "        return [0., 0., 1.]\n",
    "    \n",
    "    next_conv_dt = min([conv for conv in conv_ts_list if conv > dt_])\n",
    "    \n",
    "    sessions = sessions_dict[uid]\n",
    "    \n",
    "    if dt_ >=sessions[-1][0]:\n",
    "        return [0., 1., 0.]\n",
    "    \n",
    "    current_session_end_dt = max([sess[1] for sess in sessions if sess[0] <= dt_])\n",
    "    \n",
    "    if next_conv_dt > current_session_end_dt:\n",
    "        return [0., 1., 0.]\n",
    "    \n",
    "    return [1., 0., 0.]\n",
    "\n",
    "DELAY_FOR_QUESTION_F = 30 * 24 * 60 * 60\n",
    "def question_f(dt_, uid, conversions_ts_dict):\n",
    "    conv_ts_list = conversions_ts_dict[uid]\n",
    "    \n",
    "    if len(conv_ts_list) == 0 or dt_ >= conv_ts_list[-1]:\n",
    "        return [0., 0., 1.]\n",
    "    \n",
    "    \n",
    "    if dt_ > conv_ts_list[-1]:\n",
    "        return 0\n",
    "    next_conv_dt = min([conv for conv in conv_ts_list if conv > dt_])\n",
    "    \n",
    "    if (next_conv_dt - dt_).total_seconds() < DELAY_FOR_QUESTION_F:\n",
    "        return 1\n",
    "    else:\n",
    "        return 0"
   ]
  },
  {
   "cell_type": "code",
   "execution_count": 213,
   "metadata": {},
   "outputs": [],
   "source": [
    "users_list = list(full_input.keys())\n",
    "small_users_list = users_list[:10]\n",
    "small_inputs = {uid:full_input[uid] for uid in small_users_list}"
   ]
  },
  {
   "cell_type": "code",
   "execution_count": 214,
   "metadata": {},
   "outputs": [],
   "source": [
    "small_sessions_dict = {\n",
    "    uid:get_sessions_list(small_inputs[uid]['ts']) for uid in small_users_list\n",
    "}"
   ]
  },
  {
   "cell_type": "code",
   "execution_count": 215,
   "metadata": {},
   "outputs": [],
   "source": [
    "conversions_ts_dict = {\n",
    "    uid: [ts for ev, ts in zip(small_inputs[uid]['events'], small_inputs[uid]['ts']) if ev == 'conversion'] for uid in small_users_list\n",
    "}"
   ]
  },
  {
   "cell_type": "code",
   "execution_count": 216,
   "metadata": {},
   "outputs": [],
   "source": [
    "small_user_who_converted = [uid for uid in small_users_list if uid in labels.keys()]\n",
    "for uid in small_user_who_converted:\n",
    "    conversions_ts_dict[uid] += list(map(lambda x: dt.datetime.strptime(x, time_format), labels.get(uid)))"
   ]
  },
  {
   "cell_type": "code",
   "execution_count": 243,
   "metadata": {},
   "outputs": [
    {
     "name": "stdout",
     "output_type": "stream",
     "text": [
      "[[1,\n",
      "  1.0,\n",
      "  0.0,\n",
      "  0.0,\n",
      "  0.0,\n",
      "  0.0,\n",
      "  0,\n",
      "  1,\n",
      "  0.0,\n",
      "  0.0,\n",
      "  0.0,\n",
      "  0.0,\n",
      "  1.0,\n",
      "  0.0,\n",
      "  0.0,\n",
      "  1.0,\n",
      "  0.0,\n",
      "  1],\n",
      " [0,\n",
      "  1.0,\n",
      "  0.0,\n",
      "  0.0,\n",
      "  0.0,\n",
      "  0.0,\n",
      "  0,\n",
      "  0.0,\n",
      "  0.0,\n",
      "  1,\n",
      "  0.0,\n",
      "  0.0,\n",
      "  1.0,\n",
      "  0.0,\n",
      "  1.0,\n",
      "  0.0,\n",
      "  0.0,\n",
      "  1],\n",
      " [0,\n",
      "  0.0,\n",
      "  0.0,\n",
      "  0.0,\n",
      "  1.0,\n",
      "  0.0,\n",
      "  0,\n",
      "  0.0,\n",
      "  0.0,\n",
      "  1,\n",
      "  0.0,\n",
      "  0.0,\n",
      "  1.0,\n",
      "  0.0,\n",
      "  1.0,\n",
      "  0.0,\n",
      "  0.0,\n",
      "  1],\n",
      " [0,\n",
      "  0.0,\n",
      "  0.0,\n",
      "  0.0,\n",
      "  0.0,\n",
      "  1.0,\n",
      "  0,\n",
      "  0.0,\n",
      "  0.0,\n",
      "  1,\n",
      "  0.0,\n",
      "  0.0,\n",
      "  1.0,\n",
      "  0.0,\n",
      "  1.0,\n",
      "  0.0,\n",
      "  0.0,\n",
      "  1],\n",
      " [0,\n",
      "  1.0,\n",
      "  0.0,\n",
      "  0.0,\n",
      "  0.0,\n",
      "  0.0,\n",
      "  0,\n",
      "  1,\n",
      "  0.0,\n",
      "  0.0,\n",
      "  0.0,\n",
      "  0.0,\n",
      "  1.0,\n",
      "  0.0,\n",
      "  0.0,\n",
      "  0.0,\n",
      "  1.0,\n",
      "  [0.0, 0.0, 1.0]],\n",
      " [0,\n",
      "  0.0,\n",
      "  0.0,\n",
      "  0.0,\n",
      "  0.0,\n",
      "  0.0,\n",
      "  1.0,\n",
      "  1,\n",
      "  0.0,\n",
      "  0.0,\n",
      "  0.0,\n",
      "  0.0,\n",
      "  0.0,\n",
      "  1.0,\n",
      "  0.0,\n",
      "  0.0,\n",
      "  1.0,\n",
      "  [0.0, 0.0, 1.0]]]\n"
     ]
    }
   ],
   "source": [
    "outputs = {}\n",
    "for uid in small_users_list:\n",
    "    outputs_for_this_uid = []\n",
    "    evs_list = small_inputs[uid]['events']\n",
    "    for idx in range(len(small_inputs[uid]['ts'])):\n",
    "        ts = small_inputs[uid]['ts'][idx]\n",
    "        a = [int(question_a(ts, uid, small_sessions_dict))]\n",
    "        b = question_b(idx, uid, evs_list)\n",
    "        c = question_c(ts, uid, small_sessions_dict)\n",
    "        d = question_d(ts, uid, small_sessions_dict)\n",
    "        e = question_e(ts, uid, small_sessions_dict, conversions_ts_dict )\n",
    "        f = [question_f(ts, uid, conversions_ts_dict)]\n",
    "        vec = a+b+c+d+e+f\n",
    "        outputs_for_this_uid.append(vec)\n",
    "    \n",
    "    outputs[uid] = outputs_for_this_uid\n",
    "pprint.pprint(outputs[uid])"
   ]
  },
  {
   "cell_type": "code",
   "execution_count": 209,
   "metadata": {},
   "outputs": [
    {
     "name": "stdout",
     "output_type": "stream",
     "text": [
      "[[datetime.datetime(2019, 10, 18, 9, 39, 55, 245000),\n",
      "  datetime.datetime(2019, 10, 18, 9, 40, 28, 131000)],\n",
      " [datetime.datetime(2019, 10, 19, 5, 24, 14, 98000),\n",
      "  datetime.datetime(2019, 10, 19, 5, 24, 14, 98000)],\n",
      " [datetime.datetime(2019, 10, 20, 20, 20, 16, 934000),\n",
      "  datetime.datetime(2019, 10, 20, 20, 20, 16, 934000)],\n",
      " [datetime.datetime(2019, 10, 22, 14, 58, 30, 945000),\n",
      "  datetime.datetime(2019, 10, 22, 15, 0, 9, 105000)],\n",
      " [datetime.datetime(2019, 10, 30, 7, 2, 52, 535000),\n",
      "  datetime.datetime(2019, 10, 30, 7, 2, 52, 535000)],\n",
      " [datetime.datetime(2019, 10, 31, 1, 0, 16, 955000),\n",
      "  datetime.datetime(2019, 10, 31, 1, 0, 16, 955000)],\n",
      " [datetime.datetime(2019, 11, 3, 8, 15, 43, 315000),\n",
      "  datetime.datetime(2019, 11, 3, 8, 17, 23, 51000)],\n",
      " [datetime.datetime(2019, 11, 9, 6, 29, 20, 39000),\n",
      "  datetime.datetime(2019, 11, 9, 6, 48, 30, 455000)],\n",
      " [datetime.datetime(2019, 11, 9, 17, 34, 10, 853000),\n",
      "  datetime.datetime(2019, 11, 9, 17, 34, 10, 853000)],\n",
      " [datetime.datetime(2019, 11, 12, 13, 3, 51, 37000),\n",
      "  datetime.datetime(2019, 11, 12, 13, 4, 43, 386000)],\n",
      " [datetime.datetime(2019, 11, 12, 13, 27, 23, 234000),\n",
      "  datetime.datetime(2019, 11, 12, 13, 36, 17, 177000)],\n",
      " [datetime.datetime(2019, 11, 13, 5, 50, 19, 91000),\n",
      "  datetime.datetime(2019, 11, 13, 5, 50, 19, 91000)],\n",
      " [datetime.datetime(2019, 11, 13, 18, 6, 23, 932000),\n",
      "  datetime.datetime(2019, 11, 13, 18, 6, 23, 932000)],\n",
      " [datetime.datetime(2019, 11, 14, 5, 47, 16, 481000),\n",
      "  datetime.datetime(2019, 11, 14, 5, 47, 16, 481000)],\n",
      " [datetime.datetime(2019, 11, 19, 9, 40, 47, 925000),\n",
      "  datetime.datetime(2019, 11, 19, 9, 42, 22, 823000)],\n",
      " [datetime.datetime(2019, 11, 25, 10, 22, 56, 247000),\n",
      "  datetime.datetime(2019, 11, 25, 10, 24, 1, 468000)],\n",
      " [datetime.datetime(2019, 11, 28, 5, 34, 5, 759000),\n",
      "  datetime.datetime(2019, 11, 28, 5, 35, 5, 319000)],\n",
      " [datetime.datetime(2019, 11, 30, 6, 22, 44, 743000),\n",
      "  datetime.datetime(2019, 11, 30, 6, 23, 23, 579000)],\n",
      " [datetime.datetime(2019, 12, 4, 17, 8, 9, 849000),\n",
      "  datetime.datetime(2019, 12, 4, 17, 8, 46, 753000)],\n",
      " [datetime.datetime(2019, 12, 6, 6, 37, 41, 332000),\n",
      "  datetime.datetime(2019, 12, 6, 6, 41, 19, 577000)],\n",
      " [datetime.datetime(2019, 12, 6, 7, 3, 42, 743000),\n",
      "  datetime.datetime(2019, 12, 6, 7, 4, 24, 264000)],\n",
      " [datetime.datetime(2019, 12, 6, 7, 25, 34, 107000),\n",
      "  datetime.datetime(2019, 12, 6, 7, 25, 35, 159000)],\n",
      " [datetime.datetime(2019, 12, 8, 8, 42, 44, 998000),\n",
      "  datetime.datetime(2019, 12, 8, 8, 42, 44, 998000)],\n",
      " [datetime.datetime(2019, 12, 16, 15, 27, 17, 602000),\n",
      "  datetime.datetime(2019, 12, 16, 15, 27, 17, 602000)],\n",
      " [datetime.datetime(2019, 12, 21, 6, 22, 32, 889000),\n",
      "  datetime.datetime(2019, 12, 21, 6, 41, 11, 698000)],\n",
      " [datetime.datetime(2019, 12, 27, 15, 42, 35, 625000),\n",
      "  datetime.datetime(2019, 10, 4, 5, 44, 15, 546000)],\n",
      " [datetime.datetime(2019, 10, 11, 9, 17, 29, 406000),\n",
      "  datetime.datetime(2019, 10, 11, 9, 18, 0, 597000)],\n",
      " [datetime.datetime(2019, 10, 12, 9, 25, 18, 945000),\n",
      "  datetime.datetime(2019, 10, 12, 9, 26, 48, 125000)],\n",
      " [datetime.datetime(2019, 10, 13, 5, 46, 22, 559000),\n",
      "  datetime.datetime(2019, 10, 13, 5, 46, 22, 559000)]]\n"
     ]
    }
   ],
   "source": [
    "pprint.pprint(small_sessions_dict[uid])"
   ]
  },
  {
   "cell_type": "code",
   "execution_count": 210,
   "metadata": {},
   "outputs": [
    {
     "name": "stdout",
     "output_type": "stream",
     "text": [
      "{'events': ['visite',\n",
      "            'visite',\n",
      "            'visite',\n",
      "            'visite',\n",
      "            'visite',\n",
      "            'visite',\n",
      "            'visite',\n",
      "            'visite',\n",
      "            'visite',\n",
      "            'visite',\n",
      "            'visite',\n",
      "            'visite',\n",
      "            'addtocart',\n",
      "            'visite',\n",
      "            'visite',\n",
      "            'visite',\n",
      "            'conversion',\n",
      "            'conversion',\n",
      "            'conversion',\n",
      "            'addtocart',\n",
      "            'visite',\n",
      "            'visite',\n",
      "            'visite',\n",
      "            'visite',\n",
      "            'visite',\n",
      "            'visite',\n",
      "            'visite',\n",
      "            'visite',\n",
      "            'visite',\n",
      "            'visite',\n",
      "            'visite',\n",
      "            'visite',\n",
      "            'visite',\n",
      "            'visite',\n",
      "            'visite',\n",
      "            'conversion',\n",
      "            'conversion',\n",
      "            'conversion',\n",
      "            'conversion',\n",
      "            'visite',\n",
      "            'visite',\n",
      "            'visite',\n",
      "            'visite',\n",
      "            'conversion',\n",
      "            'addtocart',\n",
      "            'conversion',\n",
      "            'conversion',\n",
      "            'visite',\n",
      "            'visite',\n",
      "            'visite',\n",
      "            'visite',\n",
      "            'visite',\n",
      "            'visite',\n",
      "            'visite',\n",
      "            'visite'],\n",
      " 'ts': [datetime.datetime(2019, 10, 18, 9, 39, 55, 245000),\n",
      "        datetime.datetime(2019, 10, 18, 9, 40, 28, 131000),\n",
      "        datetime.datetime(2019, 10, 19, 5, 24, 14, 98000),\n",
      "        datetime.datetime(2019, 10, 20, 20, 20, 16, 934000),\n",
      "        datetime.datetime(2019, 10, 22, 14, 58, 30, 945000),\n",
      "        datetime.datetime(2019, 10, 22, 15, 0, 9, 105000),\n",
      "        datetime.datetime(2019, 10, 30, 7, 2, 52, 535000),\n",
      "        datetime.datetime(2019, 10, 31, 1, 0, 16, 955000),\n",
      "        datetime.datetime(2019, 11, 3, 8, 15, 43, 315000),\n",
      "        datetime.datetime(2019, 11, 3, 8, 17, 23, 51000),\n",
      "        datetime.datetime(2019, 11, 9, 6, 29, 20, 39000),\n",
      "        datetime.datetime(2019, 11, 9, 6, 32, 0, 167000),\n",
      "        datetime.datetime(2019, 11, 9, 6, 48, 30, 455000),\n",
      "        datetime.datetime(2019, 11, 9, 17, 34, 10, 853000),\n",
      "        datetime.datetime(2019, 11, 12, 13, 3, 51, 37000),\n",
      "        datetime.datetime(2019, 11, 12, 13, 4, 43, 386000),\n",
      "        datetime.datetime(2019, 11, 12, 13, 27, 23, 234000),\n",
      "        datetime.datetime(2019, 11, 12, 13, 27, 46, 255000),\n",
      "        datetime.datetime(2019, 11, 12, 13, 30, 43, 170000),\n",
      "        datetime.datetime(2019, 11, 12, 13, 36, 17, 177000),\n",
      "        datetime.datetime(2019, 11, 13, 5, 50, 19, 91000),\n",
      "        datetime.datetime(2019, 11, 13, 18, 6, 23, 932000),\n",
      "        datetime.datetime(2019, 11, 14, 5, 47, 16, 481000),\n",
      "        datetime.datetime(2019, 11, 19, 9, 40, 47, 925000),\n",
      "        datetime.datetime(2019, 11, 19, 9, 42, 22, 823000),\n",
      "        datetime.datetime(2019, 11, 25, 10, 22, 56, 247000),\n",
      "        datetime.datetime(2019, 11, 25, 10, 24, 1, 468000),\n",
      "        datetime.datetime(2019, 11, 28, 5, 34, 5, 759000),\n",
      "        datetime.datetime(2019, 11, 28, 5, 35, 5, 319000),\n",
      "        datetime.datetime(2019, 11, 30, 6, 22, 44, 743000),\n",
      "        datetime.datetime(2019, 11, 30, 6, 23, 23, 579000),\n",
      "        datetime.datetime(2019, 12, 4, 17, 8, 9, 849000),\n",
      "        datetime.datetime(2019, 12, 4, 17, 8, 46, 753000),\n",
      "        datetime.datetime(2019, 12, 6, 6, 37, 41, 332000),\n",
      "        datetime.datetime(2019, 12, 6, 6, 41, 19, 577000),\n",
      "        datetime.datetime(2019, 12, 6, 7, 3, 42, 743000),\n",
      "        datetime.datetime(2019, 12, 6, 7, 4, 24, 264000),\n",
      "        datetime.datetime(2019, 12, 6, 7, 25, 34, 107000),\n",
      "        datetime.datetime(2019, 12, 6, 7, 25, 35, 159000),\n",
      "        datetime.datetime(2019, 12, 8, 8, 42, 44, 998000),\n",
      "        datetime.datetime(2019, 12, 16, 15, 27, 17, 602000),\n",
      "        datetime.datetime(2019, 12, 21, 6, 22, 32, 889000),\n",
      "        datetime.datetime(2019, 12, 21, 6, 28, 48, 734000),\n",
      "        datetime.datetime(2019, 12, 21, 6, 30, 25, 971000),\n",
      "        datetime.datetime(2019, 12, 21, 6, 38, 9, 347000),\n",
      "        datetime.datetime(2019, 12, 21, 6, 40, 18, 471000),\n",
      "        datetime.datetime(2019, 12, 21, 6, 41, 11, 698000),\n",
      "        datetime.datetime(2019, 12, 27, 15, 42, 35, 625000),\n",
      "        datetime.datetime(2019, 10, 4, 5, 41, 2, 342000),\n",
      "        datetime.datetime(2019, 10, 4, 5, 44, 15, 546000),\n",
      "        datetime.datetime(2019, 10, 11, 9, 17, 29, 406000),\n",
      "        datetime.datetime(2019, 10, 11, 9, 18, 0, 597000),\n",
      "        datetime.datetime(2019, 10, 12, 9, 25, 18, 945000),\n",
      "        datetime.datetime(2019, 10, 12, 9, 26, 48, 125000),\n",
      "        datetime.datetime(2019, 10, 13, 5, 46, 22, 559000)]}\n"
     ]
    }
   ],
   "source": [
    "pprint.pprint(small_inputs[uid])"
   ]
  },
  {
   "cell_type": "code",
   "execution_count": null,
   "metadata": {},
   "outputs": [],
   "source": []
  }
 ],
 "metadata": {
  "kernelspec": {
   "display_name": "tf-2.0",
   "language": "python",
   "name": "tf-2.0"
  },
  "language_info": {
   "codemirror_mode": {
    "name": "ipython",
    "version": 3
   },
   "file_extension": ".py",
   "mimetype": "text/x-python",
   "name": "python",
   "nbconvert_exporter": "python",
   "pygments_lexer": "ipython3",
   "version": "3.7.3"
  }
 },
 "nbformat": 4,
 "nbformat_minor": 2
}
